{
 "cells": [
  {
   "cell_type": "code",
   "execution_count": 1,
   "metadata": {},
   "outputs": [
    {
     "name": "stdout",
     "output_type": "stream",
     "text": [
      "env: MLFLOW_TRACKING_URI=http://127.0.0.1:5001\n"
     ]
    }
   ],
   "source": [
    "%env MLFLOW_TRACKING_URI=http://127.0.0.1:5001"
   ]
  },
  {
   "cell_type": "code",
   "execution_count": 2,
   "metadata": {},
   "outputs": [],
   "source": [
    "import mlflow\n",
    "\n",
    "import numpy as np\n",
    "from sklearn import datasets, metrics\n",
    "from sklearn.linear_model import ElasticNet\n",
    "from sklearn.model_selection import train_test_split\n",
    "\n",
    "\n",
    "def eval_metrics(pred, actual):\n",
    "    rmse = np.sqrt(metrics.mean_squared_error(actual, pred))\n",
    "    mae = metrics.mean_absolute_error(actual, pred)\n",
    "    r2 = metrics.r2_score(actual, pred)\n",
    "    return rmse, mae, r2"
   ]
  },
  {
   "cell_type": "code",
   "execution_count": 3,
   "metadata": {},
   "outputs": [],
   "source": [
    "# Set th experiment name\n",
    "mlflow.set_experiment(\"wine-quality\")\n",
    "# Enable auto-logging to MLflow\n",
    "mlflow.sklearn.autolog()"
   ]
  },
  {
   "cell_type": "code",
   "execution_count": 4,
   "metadata": {},
   "outputs": [
    {
     "name": "stdout",
     "output_type": "stream",
     "text": [
      "🏃 View run default-params at: http://127.0.0.1:5001/#/experiments/642291859068461495/runs/1d4056adae574eefa949d64ecee27fdc\n",
      "🧪 View experiment at: http://127.0.0.1:5001/#/experiments/642291859068461495\n"
     ]
    }
   ],
   "source": [
    "# Load wine quality dataset\n",
    "X, y = datasets.load_wine(return_X_y=True)\n",
    "X_train, X_test, y_train, y_test = train_test_split(X, y, test_size=0.25)\n",
    "\n",
    "# Start a run and train a model\n",
    "with mlflow.start_run(run_name=\"default-params\"):\n",
    "    lr = ElasticNet()\n",
    "    lr.fit(X_train, y_train)\n",
    "\n",
    "    y_pred = lr.predict(X_test)\n",
    "    rmse, mae, r2 = eval_metrics(y_pred, y_test)\n",
    "    mlflow.log_metrics(\n",
    "        {\n",
    "            \"mean_squared_error_X_test\": rmse,\n",
    "            \"mean_absolute_error_X_test\": mae,\n",
    "            \"r2_score_X_test\": r2,\n",
    "        }\n",
    "    )"
   ]
  },
  {
   "cell_type": "code",
   "execution_count": 5,
   "metadata": {},
   "outputs": [
    {
     "name": "stderr",
     "output_type": "stream",
     "text": [
      "2024/11/26 09:57:14 INFO mlflow.sklearn.utils: Logging the 5 best runs, 95 runs will be omitted.\n"
     ]
    },
    {
     "name": "stdout",
     "output_type": "stream",
     "text": [
      "🏃 View run ambitious-carp-274 at: http://127.0.0.1:5001/#/experiments/642291859068461495/runs/75f6bd22b3994942b85bd78db0088da7\n",
      "🧪 View experiment at: http://127.0.0.1:5001/#/experiments/642291859068461495\n",
      "🏃 View run brawny-squirrel-278 at: http://127.0.0.1:5001/#/experiments/642291859068461495/runs/7642f28541324519b76c051b19db9f9e\n",
      "🧪 View experiment at: http://127.0.0.1:5001/#/experiments/642291859068461495\n",
      "🏃 View run gregarious-skink-652 at: http://127.0.0.1:5001/#/experiments/642291859068461495/runs/509c097f7bcb49b286c4012ba0c1e8b9\n",
      "🧪 View experiment at: http://127.0.0.1:5001/#/experiments/642291859068461495\n",
      "🏃 View run awesome-boar-720 at: http://127.0.0.1:5001/#/experiments/642291859068461495/runs/a336f6375ca846e38c02703036f9034d\n",
      "🧪 View experiment at: http://127.0.0.1:5001/#/experiments/642291859068461495\n",
      "🏃 View run hyperparameter-tuning at: http://127.0.0.1:5001/#/experiments/642291859068461495/runs/5b987155f66343e495e0aa169e2c0b4d\n",
      "🧪 View experiment at: http://127.0.0.1:5001/#/experiments/642291859068461495\n"
     ]
    },
    {
     "name": "stdout",
     "output_type": "stream",
     "text": [
      "🏃 View run mercurial-boar-183 at: http://127.0.0.1:5001/#/experiments/642291859068461495/runs/6a2f61cfcace4baf902e5a39f31f5a7b\n",
      "🧪 View experiment at: http://127.0.0.1:5001/#/experiments/642291859068461495\n"
     ]
    }
   ],
   "source": [
    "from scipy.stats import uniform\n",
    "from sklearn.model_selection import RandomizedSearchCV\n",
    "\n",
    "lr = ElasticNet()\n",
    "\n",
    "# Define distribution to pick parameter values from\n",
    "distributions = dict(\n",
    "    alpha=uniform(loc=0, scale=10),  # sample alpha uniformly from [-5.0, 5.0]\n",
    "    l1_ratio=uniform(),  # sample l1_ratio uniformlyfrom [0, 1.0]\n",
    ")\n",
    "\n",
    "# Initialize random search instance\n",
    "clf = RandomizedSearchCV(\n",
    "    estimator=lr,\n",
    "    param_distributions=distributions,\n",
    "    # Optimize for mean absolute error\n",
    "    scoring=\"neg_mean_absolute_error\",\n",
    "    # Use 5-fold cross validation\n",
    "    cv=5,\n",
    "    # Try 100 samples. Note that MLflow only logs the top 5 runs.\n",
    "    n_iter=100,\n",
    ")\n",
    "\n",
    "# Start a parent run\n",
    "with mlflow.start_run(run_name=\"hyperparameter-tuning\"):\n",
    "    search = clf.fit(X_train, y_train)\n",
    "\n",
    "    # Evaluate the best model on test dataset\n",
    "    y_pred = clf.best_estimator_.predict(X_test)\n",
    "    rmse, mae, r2 = eval_metrics(y_pred, y_test)\n",
    "    mlflow.log_metrics(\n",
    "        {\n",
    "            \"mean_squared_error_X_test\": rmse,\n",
    "            \"mean_absolute_error_X_test\": mae,\n",
    "            \"r2_score_X_test\": r2,\n",
    "        }\n",
    "    )\n"
   ]
  },
  {
   "cell_type": "code",
   "execution_count": null,
   "metadata": {},
   "outputs": [],
   "source": []
  }
 ],
 "metadata": {
  "kernelspec": {
   "display_name": "mlflow-deployment",
   "language": "python",
   "name": "python3"
  },
  "language_info": {
   "codemirror_mode": {
    "name": "ipython",
    "version": 3
   },
   "file_extension": ".py",
   "mimetype": "text/x-python",
   "name": "python",
   "nbconvert_exporter": "python",
   "pygments_lexer": "ipython3",
   "version": "3.12.7"
  }
 },
 "nbformat": 4,
 "nbformat_minor": 2
}
